{
 "cells": [
  {
   "cell_type": "code",
   "execution_count": null,
   "id": "emotional-puzzle",
   "metadata": {},
   "outputs": [],
   "source": [
    "##Data Collection and pre-processing\n",
    "import pandas as pd\n",
    "import numpy as np\n",
    "from sklearn.model_selection import train_test_split\n",
    "from sklearn.ensemble import RandomForestRegressor\n",
    "from sklearn.metrics import mean_absolute_error\n",
    "\n",
    "# Load your dataset\n",
    "data = pd.read_csv('coles_financial_data.csv')\n",
    "data.fillna(method='ffill', inplace=True)\n",
    "\n",
    "# Feature Engineering\n",
    "data['Sales Growth'] = data['Sales'].pct_change()\n",
    "data['Expenses Growth'] = data['Expenses'].pct_change()\n",
    "data['Inventory Turnover'] = data['COGS'] / data['Inventory']\n",
    "data['Receivables Turnover'] = data['Sales'] / data['Accounts Receivable']\n",
    "data['Payables Turnover'] = data['COGS'] / data['Accounts Payable']\n",
    "\n",
    "data['Future Cash Flow'] = data['Cash Flow'].shift(-1)\n",
    "data.dropna(inplace=True)\n",
    "\n",
    "features = data[['Sales', 'Expenses', 'Sales Growth', 'Expenses Growth', 'Inventory Turnover', 'Receivables Turnover', 'Payables Turnover']]\n",
    "target = data['Future Cash Flow']\n",
    "X_train, X_test, y_train, y_test = train_test_split(features, target, test_size=0.2, random_state=42)"
   ]
  },
  {
   "cell_type": "code",
   "execution_count": null,
   "id": "floppy-administration",
   "metadata": {},
   "outputs": [],
   "source": [
    "##Model Training\n",
    "model = RandomForestRegressor(n_estimators=100, random_state=42)\n",
    "model.fit(X_train, y_train)"
   ]
  },
  {
   "cell_type": "code",
   "execution_count": null,
   "id": "complete-contest",
   "metadata": {},
   "outputs": [],
   "source": [
    "##Model evaluation\n",
    "predictions = model.predict(X_test)\n",
    "mae = mean_absolute_error(y_test, predictions)\n",
    "print(f'Mean Absolute Error: {mae}')"
   ]
  },
  {
   "cell_type": "code",
   "execution_count": null,
   "id": "electrical-deposit",
   "metadata": {},
   "outputs": [],
   "source": [
    "##Forecasting Future Cash Flows\n",
    "future_features = np.array([[500000, 450000, 0.02, 0.03, 5, 10, 15]])  # Example future features\n",
    "future_cash_flow = model.predict(future_features)\n",
    "print(f'Predicted Future Cash Flow: {future_cash_flow[0]}')"
   ]
  },
  {
   "cell_type": "code",
   "execution_count": null,
   "id": "owned-nigeria",
   "metadata": {},
   "outputs": [],
   "source": [
    "###ADvanced example with LSTM(for Time series data)\n"
   ]
  },
  {
   "cell_type": "code",
   "execution_count": null,
   "id": "catholic-bargain",
   "metadata": {},
   "outputs": [],
   "source": [
    "##data Preprocessing\n",
    "from sklearn.preprocessing import MinMaxScaler\n",
    "from keras.models import Sequential\n",
    "from keras.layers import LSTM, Dense\n",
    "\n",
    "scaler = MinMaxScaler(feature_range=(0, 1))\n",
    "scaled_data = scaler.fit_transform(data)\n",
    "\n",
    "def create_sequences(data, seq_length):\n",
    "    X, y = [], []\n",
    "    for i in range(len(data) - seq_length):\n",
    "        X.append(data[i:i+seq_length])\n",
    "        y.append(data[i+seq_length, 0])\n",
    "    return np.array(X), np.array(y)\n",
    "\n",
    "seq_length = 10\n",
    "X, y = create_sequences(scaled_data, seq_length)\n",
    "X_train, X_test, y_train, y_test = train_test_split(X, y, test_size=0.2, random_state=42)"
   ]
  },
  {
   "cell_type": "code",
   "execution_count": null,
   "id": "adjustable-stable",
   "metadata": {},
   "outputs": [],
   "source": [
    "##Model Training\n",
    "model = Sequential()\n",
    "model.add(LSTM(units=50, return_sequences=True, input_shape=(seq_length, X_train.shape[2])))\n",
    "model.add(LSTM(units=50))\n",
    "model.add(Dense(1))\n",
    "\n",
    "model.compile(optimizer='adam', loss='mean_squared_error')\n",
    "model.fit(X_train, y_train, epochs=50, batch_size=32)"
   ]
  },
  {
   "cell_type": "code",
   "execution_count": null,
   "id": "opposite-subject",
   "metadata": {},
   "outputs": [],
   "source": [
    "##Model Evaluation and Prediction\n",
    "predictions = model.predict(X_test)\n",
    "predictions = scaler.inverse_transform(predictions)\n",
    "mae = mean_absolute_error(y_test, predictions)\n",
    "print(f'Mean Absolute Error: {mae}')\n",
    "\n",
    "future_features = np.array([[...]])\n",
    "future_cash_flow = model.predict(future_features)\n",
    "future_cash_flow = scaler.inverse_transform(future_cash_flow)\n",
    "print(f'Predicted Future Cash Flow: {future_cash_flow[0]}')"
   ]
  }
 ],
 "metadata": {
  "kernelspec": {
   "display_name": "Python 3",
   "language": "python",
   "name": "python3"
  },
  "language_info": {
   "codemirror_mode": {
    "name": "ipython",
    "version": 3
   },
   "file_extension": ".py",
   "mimetype": "text/x-python",
   "name": "python",
   "nbconvert_exporter": "python",
   "pygments_lexer": "ipython3",
   "version": "3.7.3"
  }
 },
 "nbformat": 4,
 "nbformat_minor": 5
}
